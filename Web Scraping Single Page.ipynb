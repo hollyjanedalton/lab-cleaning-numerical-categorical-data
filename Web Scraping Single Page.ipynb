{
 "cells": [
  {
   "cell_type": "markdown",
   "id": "d2c985b7",
   "metadata": {},
   "source": [
    "# Lab 1 | Web Scraping Single Page"
   ]
  },
  {
   "cell_type": "code",
   "execution_count": 1,
   "id": "da655de7",
   "metadata": {},
   "outputs": [],
   "source": [
    "from bs4 import BeautifulSoup\n",
    "from bs4 import BeautifulSoup\n",
    "import requests\n",
    "import pandas as pd"
   ]
  },
  {
   "cell_type": "code",
   "execution_count": 2,
   "id": "399523ab",
   "metadata": {},
   "outputs": [],
   "source": [
    "url = \"https://www.popvortex.com/music/charts/top-100-songs.php\""
   ]
  },
  {
   "cell_type": "code",
   "execution_count": 3,
   "id": "68f23a37",
   "metadata": {},
   "outputs": [],
   "source": [
    "response = requests.get(url)"
   ]
  },
  {
   "cell_type": "code",
   "execution_count": 4,
   "id": "acc1421a",
   "metadata": {},
   "outputs": [
    {
     "data": {
      "text/plain": [
       "200"
      ]
     },
     "execution_count": 4,
     "metadata": {},
     "output_type": "execute_result"
    }
   ],
   "source": [
    "response.status_code"
   ]
  },
  {
   "cell_type": "code",
   "execution_count": 5,
   "id": "66009699",
   "metadata": {},
   "outputs": [
    {
     "data": {
      "text/plain": [
       "366287"
      ]
     },
     "execution_count": 5,
     "metadata": {},
     "output_type": "execute_result"
    }
   ],
   "source": [
    "len(response.content)"
   ]
  },
  {
   "cell_type": "code",
   "execution_count": 6,
   "id": "2d17bb8e",
   "metadata": {},
   "outputs": [],
   "source": [
    "soup = BeautifulSoup(response.content, \"html.parser\")"
   ]
  },
  {
   "cell_type": "code",
   "execution_count": null,
   "id": "da71bcff",
   "metadata": {},
   "outputs": [],
   "source": [
    "soup"
   ]
  },
  {
   "cell_type": "code",
   "execution_count": null,
   "id": "2c09551f",
   "metadata": {},
   "outputs": [],
   "source": [
    "soup.select(\"p.title-artist\")"
   ]
  },
  {
   "cell_type": "code",
   "execution_count": 12,
   "id": "a79c070a",
   "metadata": {},
   "outputs": [
    {
     "data": {
      "text/plain": [
       "'About Damn TimeLizzo'"
      ]
     },
     "execution_count": 12,
     "metadata": {},
     "output_type": "execute_result"
    }
   ],
   "source": [
    "soup.select(\"p.title-artist\")[0].get_text()"
   ]
  },
  {
   "cell_type": "code",
   "execution_count": 15,
   "id": "da9c9e43",
   "metadata": {},
   "outputs": [
    {
     "data": {
      "text/plain": [
       "'About Damn Time'"
      ]
     },
     "execution_count": 15,
     "metadata": {},
     "output_type": "execute_result"
    }
   ],
   "source": [
    "soup.select(\"p.title-artist cite.title\")[0].get_text()"
   ]
  },
  {
   "cell_type": "code",
   "execution_count": 16,
   "id": "afd63f16",
   "metadata": {},
   "outputs": [
    {
     "data": {
      "text/plain": [
       "'Lizzo'"
      ]
     },
     "execution_count": 16,
     "metadata": {},
     "output_type": "execute_result"
    }
   ],
   "source": [
    "soup.select(\"p.title-artist em.artist\")[0].get_text()"
   ]
  },
  {
   "cell_type": "code",
   "execution_count": 20,
   "id": "8838e1bb",
   "metadata": {},
   "outputs": [
    {
     "name": "stdout",
     "output_type": "stream",
     "text": [
      "['About Damn Time', 'Running Up That Hill (A Deal with God)', \"Y'all Life\", 'Names', 'BREAK MY SOUL', 'As It Was', 'The Kind of Love We Make', 'She Had Me At Heads Carolina', 'Unstoppable', 'About Damn Time', 'Quietly Yours', \"I Ain't Worried\", 'Wasted On You', 'Rock and A Hard Place', 'Irrelevant', 'Good as Hell', 'Arson', 'Party In the U.S.A.', 'Master of Puppets', 'Like I Love Country Music', 'Left and Right', 'Sunroof', 'You Proof', 'Hold My Hand', 'Stay With Me', 'AA', 'First Class', 'Hey You', 'Love Shack', 'I Like You (A Happier Song) [feat. Doja Cat]', 'Son Of A Sinner', 'Call Me Maybe', 'Poker Face', 'Fancy Like', '= (Equal Sign)', 'Hot Shit', 'Glimpse of Us', 'Big Energy (Remix) [feat. DJ Khaled]', \"'Til You Can't\", 'Don’t Come Lookin’', 'Fall In Love', 'Never Gonna Give You Up', \"Can't Stop Us Now\", 'Cold Heart (PNAU Remix)', 'Numb', '5 Foot 9', 'Tennessee Whiskey', \"Pandora's Box\", 'Lights (Single Version)', 'Late Night Talking', 'Safety Zone', 'Future', 'Special', 'What If…', 'Dark Horse (feat. Juicy J)', 'Damn Strait', 'Vegas', 'Just the Way You Are (feat. Lupe Fiasco) [Remix] [Bonus Track]', 'Sweet Caroline', 'STOP', 'Everybody Wants to Rule the World', \"I'm Yours\", \"Sweet Child O' Mine\", \"When You're Gone\", 'Roar', 'Music Box : Reflection', '7 Years', 'You', 'Dancing Queen', 'Grenade', 'Shivers', 'Separate Ways (Worlds Apart) [Steve Perry & Bryce Miller Extended Remix]', 'Joy of My Life', 'The Motto', \"Something in the Orange (Z&E's Version)\", 'Tití Me Preguntó', 'Love Me More', 'Victoria’s Secret', 'Intro', 'W.I.T.C.H.', 'Hold On', 'She Likes It (feat. Jake Scott)', 'Kings & Queens', 'Sand In My Boots', 'Hot n Cold', 'Wild Palomino', 'When I Was Your Man', 'Danger Zone', 'Take My Name', 'Running up That Hill (A Deal with God)', 'Vegas (From the Original Motion Picture Soundtrack ELVIS)', 'Heat Waves', 'Numb Little Bug', 'Levitating (feat. DaBaby)', 'Big Energy', 'Soul', 'abcdefu (feat. Royal & the Serpent)', 'Carolina (From The Motion Picture “Where The Crawdads Sing”)', 'Buy Dirt (feat. Luke Bryan)', 'Hold My Hand (Music From The Motion Picture \"Top Gun: Maverick\")']\n",
      "['Lizzo', 'Kate Bush', 'Walker Hayes', 'Tom MacDonald', 'Beyoncé', 'Harry Styles', 'Luke Combs', 'Cole Swindell', 'Sia', 'Lizzo', 'Birdy', 'OneRepublic', 'Morgan Wallen', 'Bailey Zimmerman', 'P!nk', 'Lizzo', 'j-hope', 'Miley Cyrus', 'Metallica', 'Kane Brown', 'Charlie Puth & Jung Kook', 'Nicky Youre & Dazy', 'Morgan Wallen', 'Lady Gaga', 'Calvin Harris, Justin Timberlake, Halsey & Pharrell Williams', 'Walker Hayes', 'Jack Harlow', 'Disturbed', \"The B-52's\", 'Post Malone', 'Jelly Roll', 'Carly Rae Jepsen', 'Lady Gaga', 'Walker Hayes', 'j-hope', 'Cardi B, Kanye West & Lil Durk', 'Joji', 'Latto & Mariah Carey', 'Cody Johnson', 'Jackson Dean', 'Bailey Zimmerman', 'Rick Astley', 'Pitbull & Zac Brown', 'Elton John & Dua Lipa', 'Marshmello & Khalid', 'Tyler Hubbard', 'Chris Stapleton', 'j-hope', 'Ellie Goulding', 'Harry Styles', 'j-hope', 'j-hope', 'Lizzo', 'j-hope', 'Katy Perry', 'Scotty McCreery', 'Doja Cat', 'Bruno Mars', 'Neil Diamond', 'j-hope', 'Tears for Fears', 'Jason Mraz', \"Guns N' Roses\", 'Shawn Mendes', 'Katy Perry', 'j-hope', 'Lukas Graham', 'Louyah', 'ABBA', 'Bruno Mars', 'Ed Sheeran', 'Journey & Steve Perry', 'Chris Stapleton', 'Tiësto & Ava Max', 'Zach Bryan', 'Bad Bunny', 'Sam Smith', 'Jax', 'j-hope', 'Devon Cole', 'Wilson Phillips', 'Russell Dickerson & Jake Scott', 'Ava Max', 'Morgan Wallen', 'Katy Perry', 'Zac Brown Band & Cody Johnson', 'Bruno Mars', 'Kenny Loggins', 'Parmalee', 'Loveless', 'Doja Cat', 'Glass Animals', 'Em Beihold', 'Dua Lipa', 'Latto', 'Lee Brice', 'GAYLE', 'Taylor Swift', 'Jordan Davis', 'Lady Gaga']\n"
     ]
    }
   ],
   "source": [
    "#initialize empty lists\n",
    "song = []\n",
    "artist = []\n",
    "\n",
    "\n",
    "# define the number of iterations of our for loop\n",
    "# by checking how many elements are in the retrieved result set\n",
    "# (this is equivalent but more robust than just explicitly defining 250 iterations)\n",
    "num_iter = len(soup.select(\"p.title-artist\"))\n",
    "\n",
    "tClist = soup.select(\"p.title-artist cite.title\")\n",
    "citelist = soup.select(\"p.title-artist em.artist\")\n",
    "# iterate through the result set and retrive all the data\n",
    "for i in range(num_iter):\n",
    "    song.append(tClist[i].get_text())\n",
    "    artist.append(citelist[i].get_text())\n",
    "\n",
    "\n",
    "print(song)\n",
    "print(artist)"
   ]
  },
  {
   "cell_type": "code",
   "execution_count": 21,
   "id": "7d94e6a3",
   "metadata": {},
   "outputs": [],
   "source": [
    "# each list becomes a column\n",
    "songs = pd.DataFrame({\"song\":song,\n",
    "                       \"artist\":artist\n",
    "                      })\n",
    "#we provide a dictionary where the key is the name of the column, and values are the values inside the column"
   ]
  },
  {
   "cell_type": "code",
   "execution_count": 23,
   "id": "029829a9",
   "metadata": {},
   "outputs": [
    {
     "data": {
      "text/html": [
       "<div>\n",
       "<style scoped>\n",
       "    .dataframe tbody tr th:only-of-type {\n",
       "        vertical-align: middle;\n",
       "    }\n",
       "\n",
       "    .dataframe tbody tr th {\n",
       "        vertical-align: top;\n",
       "    }\n",
       "\n",
       "    .dataframe thead th {\n",
       "        text-align: right;\n",
       "    }\n",
       "</style>\n",
       "<table border=\"1\" class=\"dataframe\">\n",
       "  <thead>\n",
       "    <tr style=\"text-align: right;\">\n",
       "      <th></th>\n",
       "      <th>song</th>\n",
       "      <th>artist</th>\n",
       "    </tr>\n",
       "  </thead>\n",
       "  <tbody>\n",
       "    <tr>\n",
       "      <th>0</th>\n",
       "      <td>About Damn Time</td>\n",
       "      <td>Lizzo</td>\n",
       "    </tr>\n",
       "    <tr>\n",
       "      <th>1</th>\n",
       "      <td>Running Up That Hill (A Deal with God)</td>\n",
       "      <td>Kate Bush</td>\n",
       "    </tr>\n",
       "    <tr>\n",
       "      <th>2</th>\n",
       "      <td>Y'all Life</td>\n",
       "      <td>Walker Hayes</td>\n",
       "    </tr>\n",
       "    <tr>\n",
       "      <th>3</th>\n",
       "      <td>Names</td>\n",
       "      <td>Tom MacDonald</td>\n",
       "    </tr>\n",
       "    <tr>\n",
       "      <th>4</th>\n",
       "      <td>BREAK MY SOUL</td>\n",
       "      <td>Beyoncé</td>\n",
       "    </tr>\n",
       "    <tr>\n",
       "      <th>5</th>\n",
       "      <td>As It Was</td>\n",
       "      <td>Harry Styles</td>\n",
       "    </tr>\n",
       "    <tr>\n",
       "      <th>6</th>\n",
       "      <td>The Kind of Love We Make</td>\n",
       "      <td>Luke Combs</td>\n",
       "    </tr>\n",
       "    <tr>\n",
       "      <th>7</th>\n",
       "      <td>She Had Me At Heads Carolina</td>\n",
       "      <td>Cole Swindell</td>\n",
       "    </tr>\n",
       "    <tr>\n",
       "      <th>8</th>\n",
       "      <td>Unstoppable</td>\n",
       "      <td>Sia</td>\n",
       "    </tr>\n",
       "    <tr>\n",
       "      <th>9</th>\n",
       "      <td>About Damn Time</td>\n",
       "      <td>Lizzo</td>\n",
       "    </tr>\n",
       "  </tbody>\n",
       "</table>\n",
       "</div>"
      ],
      "text/plain": [
       "                                     song         artist\n",
       "0                         About Damn Time          Lizzo\n",
       "1  Running Up That Hill (A Deal with God)      Kate Bush\n",
       "2                              Y'all Life   Walker Hayes\n",
       "3                                   Names  Tom MacDonald\n",
       "4                           BREAK MY SOUL        Beyoncé\n",
       "5                               As It Was   Harry Styles\n",
       "6                The Kind of Love We Make     Luke Combs\n",
       "7            She Had Me At Heads Carolina  Cole Swindell\n",
       "8                             Unstoppable            Sia\n",
       "9                         About Damn Time          Lizzo"
      ]
     },
     "execution_count": 23,
     "metadata": {},
     "output_type": "execute_result"
    }
   ],
   "source": [
    "songs.head(10)"
   ]
  },
  {
   "cell_type": "code",
   "execution_count": 24,
   "id": "a7f479f7",
   "metadata": {},
   "outputs": [
    {
     "data": {
      "text/plain": [
       "100"
      ]
     },
     "execution_count": 24,
     "metadata": {},
     "output_type": "execute_result"
    }
   ],
   "source": [
    "len(songs)"
   ]
  },
  {
   "cell_type": "code",
   "execution_count": 60,
   "id": "665090d5",
   "metadata": {},
   "outputs": [],
   "source": [
    "!git add . "
   ]
  },
  {
   "cell_type": "code",
   "execution_count": 61,
   "id": "898ee10e",
   "metadata": {},
   "outputs": [
    {
     "name": "stdout",
     "output_type": "stream",
     "text": [
      "[master 8e57a31] Web Scraping Lab 1 Finalized\n",
      " 3 files changed, 7234 insertions(+), 540 deletions(-)\n",
      " create mode 100644 .ipynb_checkpoints/Web Scraping Single Page-checkpoint.ipynb\n"
     ]
    }
   ],
   "source": [
    "!git commit -m \"Web Scraping Lab 1 Finalized\""
   ]
  },
  {
   "cell_type": "code",
   "execution_count": 62,
   "id": "f88a735f",
   "metadata": {},
   "outputs": [
    {
     "name": "stdout",
     "output_type": "stream",
     "text": [
      "Counting objects: 5, done.\n",
      "Delta compression using up to 4 threads.\n",
      "Compressing objects: 100% (5/5), done.\n",
      "Writing objects: 100% (5/5), 199.23 KiB | 701.00 KiB/s, done.\n",
      "Total 5 (delta 3), reused 0 (delta 0)\n",
      "remote: Resolving deltas: 100% (3/3), completed with 3 local objects.\u001b[K\n",
      "To https://github.com/hollyjanedalton/lab-cleaning-numerical-categorical-data.git\n",
      "   7b43721..8e57a31  master -> master\n"
     ]
    }
   ],
   "source": [
    "!git push"
   ]
  },
  {
   "cell_type": "markdown",
   "id": "c1fce1d8",
   "metadata": {},
   "source": [
    "# Lab 2 | Web Scraping Multiple Pages"
   ]
  },
  {
   "cell_type": "code",
   "execution_count": null,
   "id": "d9b024a1",
   "metadata": {},
   "outputs": [],
   "source": [
    "#Lab 2\n",
    "\n",
    "#expand the list by scraping the 100 top songs from a different website source, creating a diff dataframe\n",
    "#be aware some websites are difficult to scrape, at least do one other website\n",
    "\n",
    "\n",
    "#Practice web scraping section:\n",
    "#just pick 2, one can be from wikipedia, don't have to do all 7"
   ]
  },
  {
   "cell_type": "code",
   "execution_count": 25,
   "id": "f989ea70",
   "metadata": {},
   "outputs": [],
   "source": [
    "url_2 = \"https://www.officialcharts.com/charts/singles-chart/\""
   ]
  },
  {
   "cell_type": "code",
   "execution_count": 26,
   "id": "a84868fd",
   "metadata": {},
   "outputs": [],
   "source": [
    "response_2 = requests.get(url_2)"
   ]
  },
  {
   "cell_type": "code",
   "execution_count": 27,
   "id": "33e6ae25",
   "metadata": {},
   "outputs": [
    {
     "data": {
      "text/plain": [
       "200"
      ]
     },
     "execution_count": 27,
     "metadata": {},
     "output_type": "execute_result"
    }
   ],
   "source": [
    "response_2.status_code"
   ]
  },
  {
   "cell_type": "code",
   "execution_count": 28,
   "id": "5fa88135",
   "metadata": {},
   "outputs": [
    {
     "data": {
      "text/plain": [
       "452955"
      ]
     },
     "execution_count": 28,
     "metadata": {},
     "output_type": "execute_result"
    }
   ],
   "source": [
    "len(response_2.content)"
   ]
  },
  {
   "cell_type": "code",
   "execution_count": 29,
   "id": "7bfff8e6",
   "metadata": {},
   "outputs": [],
   "source": [
    "soup_1 = BeautifulSoup(response_2.content, \"html.parser\")"
   ]
  },
  {
   "cell_type": "code",
   "execution_count": null,
   "id": "dd5263fe",
   "metadata": {},
   "outputs": [],
   "source": [
    "soup_1"
   ]
  },
  {
   "cell_type": "code",
   "execution_count": 42,
   "id": "0235a364",
   "metadata": {},
   "outputs": [
    {
     "name": "stdout",
     "output_type": "stream",
     "text": [
      "\n",
      "AFRAID TO FEEL\n",
      "\n"
     ]
    }
   ],
   "source": [
    "print(soup_1.select(\"div.title\")[0].get_text())"
   ]
  },
  {
   "cell_type": "code",
   "execution_count": 43,
   "id": "fa9391dd",
   "metadata": {},
   "outputs": [
    {
     "name": "stdout",
     "output_type": "stream",
     "text": [
      "\n",
      "LF SYSTEM\n",
      "\n"
     ]
    }
   ],
   "source": [
    "print(soup_1.select(\"div.artist\")[0].get_text())"
   ]
  },
  {
   "cell_type": "code",
   "execution_count": null,
   "id": "8198d4e0",
   "metadata": {},
   "outputs": [],
   "source": [
    "title2=[]\n",
    "artist2=[]\n",
    "\n",
    "title_list2=soup1.select(\"div.title a\")\n",
    "artist_list2=soup1.select(\"div.artist a\")\n",
    "\n",
    "\n",
    "num_iter2 = len(soup1.select(\"div.artist a\"))\n",
    "\n",
    "for i in range(num_iter2):\n",
    "    title2.append(title_list2[i].get_text())\n",
    "    artist2.append(artist_list2[i].get_text())\n",
    "    \n",
    "print (title2)\n",
    "print (artist2)"
   ]
  },
  {
   "cell_type": "code",
   "execution_count": 67,
   "id": "418bc3b5",
   "metadata": {},
   "outputs": [
    {
     "name": "stdout",
     "output_type": "stream",
     "text": [
      "['AFRAID TO FEEL', 'AS IT WAS', 'GREEN GREEN GRASS', 'BREAK MY SOUL', 'RUNNING UP THAT HILL', 'ABOUT DAMN TIME', 'LAST LAST', 'CRAZY WHAT LOVE CAN DO', 'IFTK', '21 REASONS', 'MASSIVE', 'WHERE DID YOU GO', 'LATE NIGHT TALKING', \"I AIN'T WORRIED\", 'SEVENTEEN GOING UNDER', 'GLIMPSE OF US', 'STAY THE NIGHT', 'WAIT FOR U', 'MUSIC FOR A SUSHI RESTAURANT', 'GO', 'NO EXCUSES', 'MASTER OF PUPPETS', 'JIMMY COOKS', 'POTION', 'VEGAS', 'BIG ENERGY', 'HOLD MY HAND', 'I LIKE YOU (A HAPPIER SONG)', 'HOT IN IT', 'FOR MY HAND', 'ELEGANT & GANG', \"DON'T FORGET MY LOVE\", 'HEAT WAVES', 'REMIND ME', 'BAD HABITS', 'PERU', '2STEP', 'IN THE STARS', 'SHIVERS', 'WHERE ARE YOU NOW', 'HAPPIER THAN EVER', 'FLOWERS', 'SUNROOF', 'MIXED EMOTIONS', 'RAINFALL', 'MAKE ME FEEL GOOD', 'CLOAK & DAGGER', 'BAM BAM', 'SOMETHING TO SOMEONE', \"JE M'APPELLE\", 'FIRST CLASS', 'STICKY', 'COLD HEART', 'FERRARI', 'BIG CITY LIFE', 'SPACE MAN', 'PART OF THE BAND', 'BABY', 'COOPED UP', 'STRANGERS', 'MR BRIGHTSIDE', \"SHE'S ALL I WANNA BE\", 'THROUGH THE ECHOES', 'STFU', 'DANDELIONS', 'LEFT AND RIGHT', 'SNAP', 'STARLIGHT', 'BAD HABIT', 'BRAZIL', 'BAD LIFE', 'LOOSE CHANGE', 'BETTY (GET MONEY)', 'HOUSE ON FIRE', 'ONE KISS', 'WORDS', 'GETTING STARTED', 'ANYONE FOR YOU', 'CALL ME EVERY DAY', 'WET DREAM', 'SHOTGUN', 'JUNGLE', 'STAY', 'SAVE YOUR TEARS', 'BMW', 'DOWN UNDER', 'HEAVEN TAKES YOU HOME', 'LEVITATING', 'BLINDING LIGHTS', \"MAYBE YOU'RE THE PROBLEM\", 'GOOD 4 U', 'I WILL SURVIVE', '1989', 'FINESSE', 'EVERYBODY WANTS TO RULE THE WORLD', 'ALL MINE', 'HATE IT OR LOVE IT', 'HOT S**T', 'SOMEONE YOU LOVED', 'RIPTIDE']\n",
      "['LF SYSTEM', 'HARRY STYLES', 'GEORGE EZRA', 'BEYONCE', 'KATE BUSH', 'LIZZO', 'BURNA BOY', 'DAVID GUETTA/HILL/HENDERSON', 'TION WAYNE & LA ROUX', 'NATHAN DAWE FT ELLA HENDERSON', 'DRAKE', 'JAX JONES FT MNEK', 'HARRY STYLES', 'ONEREPUBLIC', 'SAM FENDER', 'JOJI', 'SIGALA & TALIA MAR', 'FUTURE FT DRAKE & TEMS', 'HARRY STYLES', 'CAT BURNS', 'BRU-C', 'METALLICA', 'DRAKE FT 21 SAVAGE', 'CALVIN HARRIS/DUA LIPA/YOUNG', 'DOJA CAT', 'LATTO/MARIAH CAREY/DJ KHALED', 'LADY GAGA', 'POST MALONE FT DOJA CAT', 'TIESTO & CHARLI XCX', 'BURNA BOY FT ED SHEERAN', 'D-BLOCK EUROPE/GHOST KILLER', 'DIPLO & MIGUEL', 'GLASS ANIMALS', 'TOM GRENNAN', 'ED SHEERAN', 'FIREBOY DML & ED SHEERAN', 'ED SHEERAN', 'BENSON BOONE', 'ED SHEERAN', 'LOST FREQUENCIES/CALUM SCOTT', 'BILLIE EILISH', 'LAUREN SPENCER-SMITH', 'NICKY YOURE & DAZY', 'CHASE & STATUS', 'TOM SANTA', 'BELTERS ONLY FT JAZZY', 'BURNA BOY FT J HUS', 'CAMILA CABELLO FT ED SHEERAN', 'DERMOT KENNEDY', 'BENZZ', 'JACK HARLOW', 'DRAKE', 'ELTON JOHN & DUA LIPA', 'JAMES HYPE/MIGGY DELA ROSA', 'LUUDE & MATTAFIX', 'SAM RYDER', '1975', 'AITCH/ASHANTI', 'POST MALONE FT RODDY RICCH', 'BRING ME THE HORIZON', 'KILLERS', 'TATE MCRAE', 'PAOLO NUTINI', 'DIGGA D', 'RUTH B', 'CHARLIE PUTH FT JUNG KOOK', 'ROSA LINN', 'DAVE', 'STEVE LACY', 'DECLAN MCKENNA', 'SIGRID & BRING ME THE HORIZON', 'BRENT FAIYAZ', 'YUNG GRAVY', 'MIMI WEBB', 'CALVIN HARRIS & DUA LIPA', 'ALESSO/ZARA LARSSON', 'SAM FENDER', 'GEORGE EZRA', 'CHRIS BROWN FT WIZKID', 'WET LEG', 'GEORGE EZRA', 'FRED AGAIN', 'KID LAROI & JUSTIN BIEBER', 'WEEKND', 'BAD BOY CHILLER CREW', 'LUUDE FT COLIN HAY', 'SWEDISH HOUSE MAFIA', 'DUA LIPA', 'WEEKND', 'AVA MAX', 'OLIVIA RODRIGO', 'BELTERS ONLY', 'AITCH', 'PHEELZ & BNXN', 'TEARS FOR FEARS', 'BRENT FAIYAZ', 'GAME FT 50 CENT', 'CARDI B/KANYE WEST/LIL DURK', 'LEWIS CAPALDI', 'VANCE JOY']\n"
     ]
    }
   ],
   "source": [
    "song_2 = []\n",
    "artist_2 = []\n",
    "\n",
    "song_list2 = soup_1.select(\"div.title a\")\n",
    "artist_list2 = soup_1.select(\"div.artist a\")\n",
    "\n",
    "\n",
    "num_iter2 = len(soup_1.select(\"div.title a\"))\n",
    "\n",
    "\n",
    "# iterate through the result set and retrive all the data\n",
    "for i in range(num_iter2):\n",
    "    song_2.append(song_list2[i].get_text())\n",
    "    artist_2.append(artist_list2[i].get_text())\n",
    "\n",
    "\n",
    "print(song_2)\n",
    "print(artist_2)"
   ]
  },
  {
   "cell_type": "code",
   "execution_count": 68,
   "id": "86420425",
   "metadata": {},
   "outputs": [],
   "source": [
    "songs_2 = pd.DataFrame({\"song\":song_2,\n",
    "                       \"artist\":artist_2\n",
    "                      })"
   ]
  },
  {
   "cell_type": "code",
   "execution_count": 69,
   "id": "2069ca68",
   "metadata": {},
   "outputs": [
    {
     "data": {
      "text/html": [
       "<div>\n",
       "<style scoped>\n",
       "    .dataframe tbody tr th:only-of-type {\n",
       "        vertical-align: middle;\n",
       "    }\n",
       "\n",
       "    .dataframe tbody tr th {\n",
       "        vertical-align: top;\n",
       "    }\n",
       "\n",
       "    .dataframe thead th {\n",
       "        text-align: right;\n",
       "    }\n",
       "</style>\n",
       "<table border=\"1\" class=\"dataframe\">\n",
       "  <thead>\n",
       "    <tr style=\"text-align: right;\">\n",
       "      <th></th>\n",
       "      <th>song</th>\n",
       "      <th>artist</th>\n",
       "    </tr>\n",
       "  </thead>\n",
       "  <tbody>\n",
       "    <tr>\n",
       "      <th>0</th>\n",
       "      <td>AFRAID TO FEEL</td>\n",
       "      <td>LF SYSTEM</td>\n",
       "    </tr>\n",
       "    <tr>\n",
       "      <th>1</th>\n",
       "      <td>AS IT WAS</td>\n",
       "      <td>HARRY STYLES</td>\n",
       "    </tr>\n",
       "    <tr>\n",
       "      <th>2</th>\n",
       "      <td>GREEN GREEN GRASS</td>\n",
       "      <td>GEORGE EZRA</td>\n",
       "    </tr>\n",
       "    <tr>\n",
       "      <th>3</th>\n",
       "      <td>BREAK MY SOUL</td>\n",
       "      <td>BEYONCE</td>\n",
       "    </tr>\n",
       "    <tr>\n",
       "      <th>4</th>\n",
       "      <td>RUNNING UP THAT HILL</td>\n",
       "      <td>KATE BUSH</td>\n",
       "    </tr>\n",
       "    <tr>\n",
       "      <th>5</th>\n",
       "      <td>ABOUT DAMN TIME</td>\n",
       "      <td>LIZZO</td>\n",
       "    </tr>\n",
       "    <tr>\n",
       "      <th>6</th>\n",
       "      <td>LAST LAST</td>\n",
       "      <td>BURNA BOY</td>\n",
       "    </tr>\n",
       "    <tr>\n",
       "      <th>7</th>\n",
       "      <td>CRAZY WHAT LOVE CAN DO</td>\n",
       "      <td>DAVID GUETTA/HILL/HENDERSON</td>\n",
       "    </tr>\n",
       "    <tr>\n",
       "      <th>8</th>\n",
       "      <td>IFTK</td>\n",
       "      <td>TION WAYNE &amp; LA ROUX</td>\n",
       "    </tr>\n",
       "    <tr>\n",
       "      <th>9</th>\n",
       "      <td>21 REASONS</td>\n",
       "      <td>NATHAN DAWE FT ELLA HENDERSON</td>\n",
       "    </tr>\n",
       "    <tr>\n",
       "      <th>10</th>\n",
       "      <td>MASSIVE</td>\n",
       "      <td>DRAKE</td>\n",
       "    </tr>\n",
       "    <tr>\n",
       "      <th>11</th>\n",
       "      <td>WHERE DID YOU GO</td>\n",
       "      <td>JAX JONES FT MNEK</td>\n",
       "    </tr>\n",
       "    <tr>\n",
       "      <th>12</th>\n",
       "      <td>LATE NIGHT TALKING</td>\n",
       "      <td>HARRY STYLES</td>\n",
       "    </tr>\n",
       "    <tr>\n",
       "      <th>13</th>\n",
       "      <td>I AIN'T WORRIED</td>\n",
       "      <td>ONEREPUBLIC</td>\n",
       "    </tr>\n",
       "    <tr>\n",
       "      <th>14</th>\n",
       "      <td>SEVENTEEN GOING UNDER</td>\n",
       "      <td>SAM FENDER</td>\n",
       "    </tr>\n",
       "    <tr>\n",
       "      <th>15</th>\n",
       "      <td>GLIMPSE OF US</td>\n",
       "      <td>JOJI</td>\n",
       "    </tr>\n",
       "    <tr>\n",
       "      <th>16</th>\n",
       "      <td>STAY THE NIGHT</td>\n",
       "      <td>SIGALA &amp; TALIA MAR</td>\n",
       "    </tr>\n",
       "    <tr>\n",
       "      <th>17</th>\n",
       "      <td>WAIT FOR U</td>\n",
       "      <td>FUTURE FT DRAKE &amp; TEMS</td>\n",
       "    </tr>\n",
       "    <tr>\n",
       "      <th>18</th>\n",
       "      <td>MUSIC FOR A SUSHI RESTAURANT</td>\n",
       "      <td>HARRY STYLES</td>\n",
       "    </tr>\n",
       "    <tr>\n",
       "      <th>19</th>\n",
       "      <td>GO</td>\n",
       "      <td>CAT BURNS</td>\n",
       "    </tr>\n",
       "  </tbody>\n",
       "</table>\n",
       "</div>"
      ],
      "text/plain": [
       "                            song                         artist\n",
       "0                 AFRAID TO FEEL                      LF SYSTEM\n",
       "1                      AS IT WAS                   HARRY STYLES\n",
       "2              GREEN GREEN GRASS                    GEORGE EZRA\n",
       "3                  BREAK MY SOUL                        BEYONCE\n",
       "4           RUNNING UP THAT HILL                      KATE BUSH\n",
       "5                ABOUT DAMN TIME                          LIZZO\n",
       "6                      LAST LAST                      BURNA BOY\n",
       "7         CRAZY WHAT LOVE CAN DO    DAVID GUETTA/HILL/HENDERSON\n",
       "8                           IFTK           TION WAYNE & LA ROUX\n",
       "9                     21 REASONS  NATHAN DAWE FT ELLA HENDERSON\n",
       "10                       MASSIVE                          DRAKE\n",
       "11              WHERE DID YOU GO              JAX JONES FT MNEK\n",
       "12            LATE NIGHT TALKING                   HARRY STYLES\n",
       "13               I AIN'T WORRIED                    ONEREPUBLIC\n",
       "14         SEVENTEEN GOING UNDER                     SAM FENDER\n",
       "15                 GLIMPSE OF US                           JOJI\n",
       "16                STAY THE NIGHT             SIGALA & TALIA MAR\n",
       "17                    WAIT FOR U         FUTURE FT DRAKE & TEMS\n",
       "18  MUSIC FOR A SUSHI RESTAURANT                   HARRY STYLES\n",
       "19                            GO                      CAT BURNS"
      ]
     },
     "execution_count": 69,
     "metadata": {},
     "output_type": "execute_result"
    }
   ],
   "source": [
    "songs_2.head(20)"
   ]
  },
  {
   "cell_type": "markdown",
   "id": "c6809a0a",
   "metadata": {},
   "source": [
    "### Practice web scraping"
   ]
  },
  {
   "cell_type": "code",
   "execution_count": null,
   "id": "642548a0",
   "metadata": {},
   "outputs": [],
   "source": [
    "#1 Create a Python list with the top ten FBI's Most Wanted names: \n",
    "#url = 'https://www.fbi.gov/wanted/topten'"
   ]
  },
  {
   "cell_type": "code",
   "execution_count": 73,
   "id": "98e7077a",
   "metadata": {},
   "outputs": [],
   "source": [
    "!git add ."
   ]
  },
  {
   "cell_type": "code",
   "execution_count": 74,
   "id": "e7ee7083",
   "metadata": {},
   "outputs": [
    {
     "name": "stdout",
     "output_type": "stream",
     "text": [
      "[master e2e4dd1] Almost done Web Scraping labs\r\n",
      " 2 files changed, 210 insertions(+), 70 deletions(-)\r\n"
     ]
    }
   ],
   "source": [
    "!git commit -m \"Almost done Web Scraping labs\""
   ]
  },
  {
   "cell_type": "code",
   "execution_count": 75,
   "id": "f8c08d82",
   "metadata": {},
   "outputs": [
    {
     "name": "stdout",
     "output_type": "stream",
     "text": [
      "Counting objects: 4, done.\n",
      "Delta compression using up to 4 threads.\n",
      "Compressing objects: 100% (4/4), done.\n",
      "Writing objects: 100% (4/4), 1.21 KiB | 248.00 KiB/s, done.\n",
      "Total 4 (delta 3), reused 0 (delta 0)\n",
      "remote: Resolving deltas: 100% (3/3), completed with 3 local objects.\u001b[K\n",
      "To https://github.com/hollyjanedalton/lab-cleaning-numerical-categorical-data.git\n",
      "   86f8bad..e2e4dd1  master -> master\n"
     ]
    }
   ],
   "source": [
    "!git push"
   ]
  },
  {
   "cell_type": "code",
   "execution_count": 76,
   "id": "87c442e1",
   "metadata": {},
   "outputs": [],
   "source": [
    "url = \"https://www.fbi.gov/wanted/topten\""
   ]
  },
  {
   "cell_type": "code",
   "execution_count": 77,
   "id": "9cc35412",
   "metadata": {},
   "outputs": [],
   "source": [
    "response = requests.get(url)"
   ]
  },
  {
   "cell_type": "code",
   "execution_count": 78,
   "id": "95151fe2",
   "metadata": {},
   "outputs": [
    {
     "data": {
      "text/plain": [
       "200"
      ]
     },
     "execution_count": 78,
     "metadata": {},
     "output_type": "execute_result"
    }
   ],
   "source": [
    "response.status_code"
   ]
  },
  {
   "cell_type": "code",
   "execution_count": 79,
   "id": "be941b18",
   "metadata": {},
   "outputs": [
    {
     "data": {
      "text/plain": [
       "71502"
      ]
     },
     "execution_count": 79,
     "metadata": {},
     "output_type": "execute_result"
    }
   ],
   "source": [
    "len(response.content)"
   ]
  },
  {
   "cell_type": "code",
   "execution_count": 80,
   "id": "38f4f878",
   "metadata": {},
   "outputs": [],
   "source": [
    "soup = BeautifulSoup(response.content, \"html.parser\")"
   ]
  },
  {
   "cell_type": "code",
   "execution_count": 81,
   "id": "33dd8b41",
   "metadata": {},
   "outputs": [
    {
     "name": "stdout",
     "output_type": "stream",
     "text": [
      "JASON DEREK BROWN\n"
     ]
    }
   ],
   "source": [
    "print(soup.select(\"h3.title a\")[0].get_text())"
   ]
  },
  {
   "cell_type": "code",
   "execution_count": 84,
   "id": "84323b52",
   "metadata": {},
   "outputs": [
    {
     "name": "stdout",
     "output_type": "stream",
     "text": [
      "['JASON DEREK BROWN', 'RUJA IGNATOVA', 'ARNOLDO JIMENEZ', 'ALEXIS FLORES', 'JOSE RODOLFO VILLARREAL-HERNANDEZ', 'YULAN ADONAY ARCHAGA CARIAS', 'RAFAEL CARO-QUINTERO', 'EUGENE PALMER', 'BHADRESHKUMAR CHETANBHAI PATEL', 'ALEJANDRO ROSALES CASTILLO']\n"
     ]
    }
   ],
   "source": [
    "fbi = []\n",
    "\n",
    "mostwanted_list = soup.select(\"h3.title a\")\n",
    "\n",
    "\n",
    "num_iter = len(soup.select(\"h3.title a\"))\n",
    "\n",
    "\n",
    "# iterate through the result set and retrive all the data\n",
    "for i in range(num_iter):\n",
    "    fbi.append(mostwanted_list[i].get_text())\n",
    "\n",
    "\n",
    "print(fbi)\n"
   ]
  },
  {
   "cell_type": "code",
   "execution_count": 85,
   "id": "3d43d40b",
   "metadata": {},
   "outputs": [
    {
     "data": {
      "text/html": [
       "<div>\n",
       "<style scoped>\n",
       "    .dataframe tbody tr th:only-of-type {\n",
       "        vertical-align: middle;\n",
       "    }\n",
       "\n",
       "    .dataframe tbody tr th {\n",
       "        vertical-align: top;\n",
       "    }\n",
       "\n",
       "    .dataframe thead th {\n",
       "        text-align: right;\n",
       "    }\n",
       "</style>\n",
       "<table border=\"1\" class=\"dataframe\">\n",
       "  <thead>\n",
       "    <tr style=\"text-align: right;\">\n",
       "      <th></th>\n",
       "      <th>criminal_name</th>\n",
       "    </tr>\n",
       "  </thead>\n",
       "  <tbody>\n",
       "    <tr>\n",
       "      <th>0</th>\n",
       "      <td>JASON DEREK BROWN</td>\n",
       "    </tr>\n",
       "    <tr>\n",
       "      <th>1</th>\n",
       "      <td>RUJA IGNATOVA</td>\n",
       "    </tr>\n",
       "    <tr>\n",
       "      <th>2</th>\n",
       "      <td>ARNOLDO JIMENEZ</td>\n",
       "    </tr>\n",
       "    <tr>\n",
       "      <th>3</th>\n",
       "      <td>ALEXIS FLORES</td>\n",
       "    </tr>\n",
       "    <tr>\n",
       "      <th>4</th>\n",
       "      <td>JOSE RODOLFO VILLARREAL-HERNANDEZ</td>\n",
       "    </tr>\n",
       "    <tr>\n",
       "      <th>5</th>\n",
       "      <td>YULAN ADONAY ARCHAGA CARIAS</td>\n",
       "    </tr>\n",
       "    <tr>\n",
       "      <th>6</th>\n",
       "      <td>RAFAEL CARO-QUINTERO</td>\n",
       "    </tr>\n",
       "    <tr>\n",
       "      <th>7</th>\n",
       "      <td>EUGENE PALMER</td>\n",
       "    </tr>\n",
       "    <tr>\n",
       "      <th>8</th>\n",
       "      <td>BHADRESHKUMAR CHETANBHAI PATEL</td>\n",
       "    </tr>\n",
       "    <tr>\n",
       "      <th>9</th>\n",
       "      <td>ALEJANDRO ROSALES CASTILLO</td>\n",
       "    </tr>\n",
       "  </tbody>\n",
       "</table>\n",
       "</div>"
      ],
      "text/plain": [
       "                       criminal_name\n",
       "0                  JASON DEREK BROWN\n",
       "1                      RUJA IGNATOVA\n",
       "2                    ARNOLDO JIMENEZ\n",
       "3                      ALEXIS FLORES\n",
       "4  JOSE RODOLFO VILLARREAL-HERNANDEZ\n",
       "5        YULAN ADONAY ARCHAGA CARIAS\n",
       "6               RAFAEL CARO-QUINTERO\n",
       "7                      EUGENE PALMER\n",
       "8     BHADRESHKUMAR CHETANBHAI PATEL\n",
       "9         ALEJANDRO ROSALES CASTILLO"
      ]
     },
     "execution_count": 85,
     "metadata": {},
     "output_type": "execute_result"
    }
   ],
   "source": [
    "criminals = pd.DataFrame({\"criminal_name\":fbi,\n",
    "                      })\n",
    "criminals"
   ]
  },
  {
   "cell_type": "code",
   "execution_count": null,
   "id": "c51405dc",
   "metadata": {},
   "outputs": [],
   "source": [
    "#2 Display the top 10 languages by number of native speakers stored in a pandas dataframe: \n",
    "#url = 'https://en.wikipedia.org/wiki/List_of_languages_by_number_of_native_speakers'\n"
   ]
  },
  {
   "cell_type": "code",
   "execution_count": 86,
   "id": "7e87fb62",
   "metadata": {},
   "outputs": [],
   "source": [
    "url = \"https://en.wikipedia.org/wiki/List_of_languages_by_number_of_native_speakers\""
   ]
  },
  {
   "cell_type": "code",
   "execution_count": 87,
   "id": "5ad17c26",
   "metadata": {},
   "outputs": [],
   "source": [
    "response = requests.get(url)"
   ]
  },
  {
   "cell_type": "code",
   "execution_count": 88,
   "id": "45c67496",
   "metadata": {},
   "outputs": [
    {
     "data": {
      "text/plain": [
       "200"
      ]
     },
     "execution_count": 88,
     "metadata": {},
     "output_type": "execute_result"
    }
   ],
   "source": [
    "response.status_code"
   ]
  },
  {
   "cell_type": "code",
   "execution_count": 89,
   "id": "2fa67743",
   "metadata": {},
   "outputs": [
    {
     "data": {
      "text/plain": [
       "166010"
      ]
     },
     "execution_count": 89,
     "metadata": {},
     "output_type": "execute_result"
    }
   ],
   "source": [
    "len(response.content)"
   ]
  },
  {
   "cell_type": "code",
   "execution_count": 90,
   "id": "40e296a4",
   "metadata": {},
   "outputs": [],
   "source": [
    "soup = BeautifulSoup(response.content, \"html.parser\")"
   ]
  },
  {
   "cell_type": "code",
   "execution_count": 91,
   "id": "54d815b2",
   "metadata": {},
   "outputs": [
    {
     "name": "stdout",
     "output_type": "stream",
     "text": [
      "Mandarin Chinese\n"
     ]
    }
   ],
   "source": [
    "print(soup.select(\"td a\")[0].get_text())"
   ]
  },
  {
   "cell_type": "code",
   "execution_count": 124,
   "id": "eb1f8be3",
   "metadata": {},
   "outputs": [
    {
     "name": "stdout",
     "output_type": "stream",
     "text": [
      "929.0\n",
      "\n"
     ]
    }
   ],
   "source": [
    "print(soup.select(\"td:nth-child(3)\")[0].get_text())\n",
    "\n",
    "#mw-content-text > div.mw-parser-output > table:nth-child(15) > tbody > tr:nth-child(1) > td:nth-child(3)"
   ]
  },
  {
   "cell_type": "code",
   "execution_count": 121,
   "id": "1055fcb7",
   "metadata": {},
   "outputs": [
    {
     "name": "stdout",
     "output_type": "stream",
     "text": [
      "['Mandarin Chinese', 'Sino-Tibetan', 'Sinitic', 'Spanish', 'Indo-European', 'Romance', 'English', 'Indo-European', 'Germanic', 'Hindi']\n",
      "['929.0\\n', '474.7\\n', '372.9\\n', '343.9\\n', '233.7\\n', '232.4\\n', '154.0\\n', '125.3\\n', '92.7\\n', '85.2\\n']\n"
     ]
    }
   ],
   "source": [
    "top10_languages = []\n",
    "spkrs_millions = []\n",
    "\n",
    "top10_languages_list = soup.select(\"td a\")\n",
    "spkrs_millions_list = soup.select(\"td:nth-child(3)\")\n",
    "\n",
    "num_iter = len(soup.select(\"td:nth-child(3)\"))\n",
    "\n",
    "\n",
    "# iterate through the result set and retrieve all the data\n",
    "for i in range(num_iter):\n",
    "    top10_languages.append(top10_languages_list[i].get_text())\n",
    "    spkrs_millions.append(spkrs_millions_list[i].get_text())\n",
    "\n",
    "top10 = top10_languages[:10]\n",
    "speakers = spkrs_millions[:10]\n",
    "print(top10)\n",
    "print(speakers)"
   ]
  },
  {
   "cell_type": "code",
   "execution_count": 122,
   "id": "892fcfce",
   "metadata": {},
   "outputs": [
    {
     "data": {
      "text/html": [
       "<div>\n",
       "<style scoped>\n",
       "    .dataframe tbody tr th:only-of-type {\n",
       "        vertical-align: middle;\n",
       "    }\n",
       "\n",
       "    .dataframe tbody tr th {\n",
       "        vertical-align: top;\n",
       "    }\n",
       "\n",
       "    .dataframe thead th {\n",
       "        text-align: right;\n",
       "    }\n",
       "</style>\n",
       "<table border=\"1\" class=\"dataframe\">\n",
       "  <thead>\n",
       "    <tr style=\"text-align: right;\">\n",
       "      <th></th>\n",
       "      <th>language</th>\n",
       "      <th>speakers (in millions)</th>\n",
       "    </tr>\n",
       "  </thead>\n",
       "  <tbody>\n",
       "    <tr>\n",
       "      <th>0</th>\n",
       "      <td>Mandarin Chinese</td>\n",
       "      <td>929.0\\n</td>\n",
       "    </tr>\n",
       "    <tr>\n",
       "      <th>1</th>\n",
       "      <td>Sino-Tibetan</td>\n",
       "      <td>474.7\\n</td>\n",
       "    </tr>\n",
       "    <tr>\n",
       "      <th>2</th>\n",
       "      <td>Sinitic</td>\n",
       "      <td>372.9\\n</td>\n",
       "    </tr>\n",
       "    <tr>\n",
       "      <th>3</th>\n",
       "      <td>Spanish</td>\n",
       "      <td>343.9\\n</td>\n",
       "    </tr>\n",
       "    <tr>\n",
       "      <th>4</th>\n",
       "      <td>Indo-European</td>\n",
       "      <td>233.7\\n</td>\n",
       "    </tr>\n",
       "    <tr>\n",
       "      <th>5</th>\n",
       "      <td>Romance</td>\n",
       "      <td>232.4\\n</td>\n",
       "    </tr>\n",
       "    <tr>\n",
       "      <th>6</th>\n",
       "      <td>English</td>\n",
       "      <td>154.0\\n</td>\n",
       "    </tr>\n",
       "    <tr>\n",
       "      <th>7</th>\n",
       "      <td>Indo-European</td>\n",
       "      <td>125.3\\n</td>\n",
       "    </tr>\n",
       "    <tr>\n",
       "      <th>8</th>\n",
       "      <td>Germanic</td>\n",
       "      <td>92.7\\n</td>\n",
       "    </tr>\n",
       "    <tr>\n",
       "      <th>9</th>\n",
       "      <td>Hindi</td>\n",
       "      <td>85.2\\n</td>\n",
       "    </tr>\n",
       "  </tbody>\n",
       "</table>\n",
       "</div>"
      ],
      "text/plain": [
       "           language speakers (in millions)\n",
       "0  Mandarin Chinese                929.0\\n\n",
       "1      Sino-Tibetan                474.7\\n\n",
       "2           Sinitic                372.9\\n\n",
       "3           Spanish                343.9\\n\n",
       "4     Indo-European                233.7\\n\n",
       "5           Romance                232.4\\n\n",
       "6           English                154.0\\n\n",
       "7     Indo-European                125.3\\n\n",
       "8          Germanic                 92.7\\n\n",
       "9             Hindi                 85.2\\n"
      ]
     },
     "execution_count": 122,
     "metadata": {},
     "output_type": "execute_result"
    }
   ],
   "source": [
    "top_languages = pd.DataFrame({\"language\":top10,\n",
    "                              \"speakers (in millions)\": speakers\n",
    "                      })\n",
    "top_languages"
   ]
  },
  {
   "cell_type": "code",
   "execution_count": null,
   "id": "b10e846a",
   "metadata": {},
   "outputs": [],
   "source": [
    "##Why returning the \\n??"
   ]
  },
  {
   "cell_type": "code",
   "execution_count": null,
   "id": "270a7649",
   "metadata": {},
   "outputs": [],
   "source": [
    "!git add ."
   ]
  },
  {
   "cell_type": "code",
   "execution_count": null,
   "id": "121adda4",
   "metadata": {},
   "outputs": [],
   "source": [
    "!git commit -m \"Almost done Web Scraping labs\""
   ]
  },
  {
   "cell_type": "code",
   "execution_count": null,
   "id": "f0064539",
   "metadata": {},
   "outputs": [],
   "source": [
    "!git push"
   ]
  }
 ],
 "metadata": {
  "kernelspec": {
   "display_name": "Python 3 (ipykernel)",
   "language": "python",
   "name": "python3"
  },
  "language_info": {
   "codemirror_mode": {
    "name": "ipython",
    "version": 3
   },
   "file_extension": ".py",
   "mimetype": "text/x-python",
   "name": "python",
   "nbconvert_exporter": "python",
   "pygments_lexer": "ipython3",
   "version": "3.9.12"
  }
 },
 "nbformat": 4,
 "nbformat_minor": 5
}
