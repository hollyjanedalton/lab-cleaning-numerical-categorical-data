{
 "cells": [
  {
   "cell_type": "markdown",
   "id": "ef64766e",
   "metadata": {},
   "source": [
    "### Rename the columns so they follow the PE8 (snake case) (lower_case_with_underscores)"
   ]
  },
  {
   "cell_type": "code",
   "execution_count": null,
   "id": "345ac392",
   "metadata": {},
   "outputs": [],
   "source": [
    "#change titles to lower case \n",
    "    lower = []\n",
    "    for i in x.columns:\n",
    "        lower.append(i.lower())\n",
    "    x.columns = lower\n",
    "    \n",
    "#Puts underscore instead of spaces\n",
    "    under_ = []\n",
    "    for i in x.columns:\n",
    "        if ' ' in i:\n",
    "            under_.append(i.replace(' ', '_'))\n",
    "        else:\n",
    "            under_.append(i)\n",
    "    x.columns = under_   \n",
    "\n",
    "#Change column names for specific changes\n",
    "    df.rename(columns = {'old_col1':'new_col1', 'old_col2':'new_col2'}, inplace = True)\n"
   ]
  },
  {
   "cell_type": "markdown",
   "id": "50c00339",
   "metadata": {},
   "source": [
    "### Changing a date from an object to datetime format"
   ]
  },
  {
   "cell_type": "code",
   "execution_count": null,
   "id": "9691f017",
   "metadata": {},
   "outputs": [],
   "source": [
    "df['date_column'] = pd.to_datetime(df['date_column'])\n"
   ]
  }
 ],
 "metadata": {
  "kernelspec": {
   "display_name": "Python 3 (ipykernel)",
   "language": "python",
   "name": "python3"
  },
  "language_info": {
   "codemirror_mode": {
    "name": "ipython",
    "version": 3
   },
   "file_extension": ".py",
   "mimetype": "text/x-python",
   "name": "python",
   "nbconvert_exporter": "python",
   "pygments_lexer": "ipython3",
   "version": "3.9.12"
  }
 },
 "nbformat": 4,
 "nbformat_minor": 5
}
